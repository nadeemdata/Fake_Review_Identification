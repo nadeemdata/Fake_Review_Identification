{
  "cells": [
    {
      "cell_type": "code",
      "execution_count": null,
      "metadata": {
        "colab": {
          "base_uri": "https://localhost:8080/"
        },
        "id": "bELCLP18XeHf",
        "outputId": "dd1e36bd-4fef-40ab-f054-c562f4c31864"
      },
      "outputs": [
        {
          "name": "stdout",
          "output_type": "stream",
          "text": [
            "Mounted at /content/drive\n"
          ]
        }
      ],
      "source": [
        "from google.colab import drive\n",
        "drive.mount('/content/drive')"
      ]
    },
    {
      "cell_type": "markdown",
      "metadata": {
        "id": "27Q9yR3fbQVE"
      },
      "source": [
        "# ***100%***"
      ]
    },
    {
      "cell_type": "code",
      "execution_count": null,
      "metadata": {
        "id": "thjg4cZTYUqE"
      },
      "outputs": [],
      "source": [
        "train = '/content/drive/MyDrive/dataset1/train.csv'\n",
        "val = '/content/drive/MyDrive/dataset1/validation.csv'\n",
        "test = '/content/drive/MyDrive/dataset1/test-500.csv'"
      ]
    },
    {
      "cell_type": "code",
      "execution_count": null,
      "metadata": {
        "id": "14zc1fhBaU6E"
      },
      "outputs": [],
      "source": [
        "import pandas as pd\n",
        "\n",
        "train_data = pd.read_csv(train)\n",
        "val_data = pd.read_csv(val)\n",
        "test_data = pd.read_csv(test)"
      ]
    },
    {
      "cell_type": "code",
      "execution_count": null,
      "metadata": {
        "colab": {
          "base_uri": "https://localhost:8080/"
        },
        "id": "npWFIjRzYqKk",
        "outputId": "72698262-f402-4ae2-d616-9225e77f0af2"
      },
      "outputs": [
        {
          "name": "stderr",
          "output_type": "stream",
          "text": [
            "Some weights of BertForSequenceClassification were not initialized from the model checkpoint at bert-base-uncased and are newly initialized: ['classifier.bias', 'classifier.weight']\n",
            "You should probably TRAIN this model on a down-stream task to be able to use it for predictions and inference.\n",
            "/usr/local/lib/python3.10/dist-packages/transformers/optimization.py:521: FutureWarning: This implementation of AdamW is deprecated and will be removed in a future version. Use the PyTorch implementation torch.optim.AdamW instead, or set `no_deprecation_warning=True` to disable this warning\n",
            "  warnings.warn(\n",
            "Epoch 1: 100%|██████████| 986/986 [10:39<00:00,  1.54batches/s]\n"
          ]
        },
        {
          "name": "stdout",
          "output_type": "stream",
          "text": [
            "Epoch 1/10, Training Loss: 0.12623142452275807, Validation Accuracy: 0.9448459490300495\n"
          ]
        },
        {
          "name": "stderr",
          "output_type": "stream",
          "text": [
            "Epoch 2: 100%|██████████| 986/986 [10:43<00:00,  1.53batches/s]\n"
          ]
        },
        {
          "name": "stdout",
          "output_type": "stream",
          "text": [
            "Epoch 2/10, Training Loss: 0.0397970310565718, Validation Accuracy: 0.9581589958158996\n"
          ]
        },
        {
          "name": "stderr",
          "output_type": "stream",
          "text": [
            "Epoch 3: 100%|██████████| 986/986 [10:42<00:00,  1.53batches/s]\n"
          ]
        },
        {
          "name": "stdout",
          "output_type": "stream",
          "text": [
            "Epoch 3/10, Training Loss: 0.02209303524444278, Validation Accuracy: 0.9664004057309497\n"
          ]
        },
        {
          "name": "stderr",
          "output_type": "stream",
          "text": [
            "Epoch 4: 100%|██████████| 986/986 [10:42<00:00,  1.53batches/s]\n"
          ]
        },
        {
          "name": "stdout",
          "output_type": "stream",
          "text": [
            "Epoch 4/10, Training Loss: 0.014063808554100143, Validation Accuracy: 0.9582857867376696\n"
          ]
        },
        {
          "name": "stderr",
          "output_type": "stream",
          "text": [
            "Epoch 5: 100%|██████████| 986/986 [10:43<00:00,  1.53batches/s]\n"
          ]
        },
        {
          "name": "stdout",
          "output_type": "stream",
          "text": [
            "Epoch 5/10, Training Loss: 0.008773215580794354, Validation Accuracy: 0.9822492709521998\n"
          ]
        },
        {
          "name": "stderr",
          "output_type": "stream",
          "text": [
            "Epoch 6: 100%|██████████| 986/986 [10:43<00:00,  1.53batches/s]\n"
          ]
        },
        {
          "name": "stdout",
          "output_type": "stream",
          "text": [
            "Epoch 6/10, Training Loss: 0.007803488915238045, Validation Accuracy: 0.9721059972105998\n"
          ]
        },
        {
          "name": "stderr",
          "output_type": "stream",
          "text": [
            "Epoch 7: 100%|██████████| 986/986 [10:43<00:00,  1.53batches/s]\n"
          ]
        },
        {
          "name": "stdout",
          "output_type": "stream",
          "text": [
            "Epoch 7/10, Training Loss: 0.006809699983995384, Validation Accuracy: 0.9800938252821098\n"
          ]
        },
        {
          "name": "stderr",
          "output_type": "stream",
          "text": [
            "Epoch 8: 100%|██████████| 986/986 [10:42<00:00,  1.53batches/s]\n"
          ]
        },
        {
          "name": "stdout",
          "output_type": "stream",
          "text": [
            "Epoch 8/10, Training Loss: 0.005008507236284763, Validation Accuracy: 0.9779383796120198\n"
          ]
        },
        {
          "name": "stderr",
          "output_type": "stream",
          "text": [
            "Epoch 9: 100%|██████████| 986/986 [10:43<00:00,  1.53batches/s]\n"
          ]
        },
        {
          "name": "stdout",
          "output_type": "stream",
          "text": [
            "Epoch 9/10, Training Loss: 0.005246258371043876, Validation Accuracy: 0.9817421072651198\n"
          ]
        },
        {
          "name": "stderr",
          "output_type": "stream",
          "text": [
            "Epoch 10: 100%|██████████| 986/986 [10:42<00:00,  1.53batches/s]\n"
          ]
        },
        {
          "name": "stdout",
          "output_type": "stream",
          "text": [
            "Epoch 10/10, Training Loss: 0.0052634414423535425, Validation Accuracy: 0.9680486877139597\n",
            "Test Accuracy: 0.968\n"
          ]
        }
      ],
      "source": [
        "import torch\n",
        "from transformers import BertTokenizer, BertForSequenceClassification, AdamW\n",
        "from torch.utils.data import TensorDataset, DataLoader, RandomSampler, SequentialSampler\n",
        "from sklearn.preprocessing import LabelEncoder\n",
        "from sklearn.metrics import accuracy_score\n",
        "from tqdm import tqdm\n",
        "\n",
        "\n",
        "# Define the BERT model\n",
        "model = BertForSequenceClassification.from_pretrained('bert-base-uncased', num_labels=2)\n",
        "tokenizer = BertTokenizer.from_pretrained('bert-base-uncased')\n",
        "\n",
        "def tokenize_text(texts, tokenizer, max_length):\n",
        "    input_ids = []\n",
        "    attention_masks = []\n",
        "\n",
        "    for text in texts:\n",
        "        if pd.isnull(text):\n",
        "            text = \"\"  # Replace NaN with an empty string\n",
        "        encoded_dict = tokenizer.encode_plus(\n",
        "                            text,\n",
        "                            add_special_tokens=True,\n",
        "                            max_length=max_length,\n",
        "                            padding='max_length',\n",
        "                            truncation=True,\n",
        "                            return_attention_mask=True,\n",
        "                            return_tensors='pt'\n",
        "                       )\n",
        "\n",
        "        input_ids.append(encoded_dict['input_ids'])\n",
        "        attention_masks.append(encoded_dict['attention_mask'])\n",
        "\n",
        "    input_ids = torch.cat(input_ids, dim=0)\n",
        "    attention_masks = torch.cat(attention_masks, dim=0)\n",
        "\n",
        "    return input_ids, attention_masks\n",
        "\n",
        "\n",
        "# Encode labels\n",
        "label_encoder = LabelEncoder()\n",
        "train_labels = label_encoder.fit_transform(train_data['label'])\n",
        "val_labels = label_encoder.transform(val_data['label'])\n",
        "test_labels = label_encoder.transform(test_data['label'])\n",
        "\n",
        "# Tokenize and encode input sequences\n",
        "max_length = 128\n",
        "train_inputs, train_masks = tokenize_text(train_data['text'], tokenizer, max_length)\n",
        "val_inputs, val_masks = tokenize_text(val_data['text'], tokenizer, max_length)\n",
        "test_inputs, test_masks = tokenize_text(test_data['text'], tokenizer, max_length)\n",
        "\n",
        "# Create PyTorch datasets\n",
        "train_dataset = TensorDataset(train_inputs, train_masks, torch.tensor(train_labels))\n",
        "val_dataset = TensorDataset(val_inputs, val_masks, torch.tensor(val_labels))\n",
        "test_dataset = TensorDataset(test_inputs, test_masks, torch.tensor(test_labels))\n",
        "\n",
        "# Define data loaders\n",
        "batch_size = 32\n",
        "train_dataloader = DataLoader(train_dataset, sampler=RandomSampler(train_dataset), batch_size=batch_size)\n",
        "val_dataloader = DataLoader(val_dataset, sampler=SequentialSampler(val_dataset), batch_size=batch_size)\n",
        "test_dataloader = DataLoader(test_dataset, sampler=SequentialSampler(test_dataset), batch_size=batch_size)\n",
        "\n",
        "# Define optimizer and loss function\n",
        "optimizer = AdamW(model.parameters(), lr=2e-5)\n",
        "loss_fn = torch.nn.CrossEntropyLoss()\n",
        "\n",
        "# Train the model\n",
        "device = torch.device('cuda' if torch.cuda.is_available() else 'cpu')\n",
        "model.to(device)\n",
        "\n",
        "epochs = 10\n",
        "\n",
        "for epoch in range(epochs):\n",
        "    model.train()\n",
        "    total_loss = 0\n",
        "    for batch in tqdm(train_dataloader, desc=f'Epoch {epoch + 1}', unit='batches'):\n",
        "        batch = tuple(t.to(device) for t in batch)\n",
        "        inputs, masks, labels = batch\n",
        "\n",
        "        optimizer.zero_grad()\n",
        "        outputs = model(inputs, attention_mask=masks, labels=labels)\n",
        "        loss = outputs.loss\n",
        "        total_loss += loss.item()\n",
        "        loss.backward()\n",
        "        optimizer.step()\n",
        "\n",
        "    avg_train_loss = total_loss / len(train_dataloader)\n",
        "\n",
        "    # Validation\n",
        "    model.eval()\n",
        "    val_preds = []\n",
        "    val_labels = []\n",
        "\n",
        "    for batch in val_dataloader:\n",
        "        batch = tuple(t.to(device) for t in batch)\n",
        "        inputs, masks, labels = batch\n",
        "\n",
        "        with torch.no_grad():\n",
        "            outputs = model(inputs, attention_mask=masks)\n",
        "            logits = outputs.logits\n",
        "\n",
        "        val_preds.extend(torch.argmax(logits, dim=1).tolist())\n",
        "        val_labels.extend(labels.tolist())\n",
        "\n",
        "    val_accuracy = accuracy_score(val_labels, val_preds)\n",
        "\n",
        "    print(f\"Epoch {epoch + 1}/{epochs}, Training Loss: {avg_train_loss}, Validation Accuracy: {val_accuracy}\")\n",
        "\n",
        "# Test the model\n",
        "model.eval()\n",
        "test_preds = []\n",
        "test_labels = []\n",
        "\n",
        "for batch in test_dataloader:\n",
        "    batch = tuple(t.to(device) for t in batch)\n",
        "    inputs, masks, labels = batch\n",
        "\n",
        "    with torch.no_grad():\n",
        "        outputs = model(inputs, attention_mask=masks)\n",
        "        logits = outputs.logits\n",
        "\n",
        "    test_preds.extend(torch.argmax(logits, dim=1).tolist())\n",
        "    test_labels.extend(labels.tolist())\n",
        "\n",
        "test_accuracy = accuracy_score(test_labels, test_preds)\n",
        "print(f\"Test Accuracy: {test_accuracy}\")\n"
      ]
    },
    {
      "cell_type": "code",
      "execution_count": null,
      "metadata": {
        "colab": {
          "base_uri": "https://localhost:8080/"
        },
        "id": "saoYOAr9cju2",
        "outputId": "fd596ee8-d71d-4f69-9355-2b4e74209bf7"
      },
      "outputs": [
        {
          "name": "stdout",
          "output_type": "stream",
          "text": [
            "              precision    recall  f1-score   support\n",
            "\n",
            "           0       0.98      0.95      0.97       248\n",
            "           1       0.95      0.98      0.97       252\n",
            "\n",
            "    accuracy                           0.97       500\n",
            "   macro avg       0.97      0.97      0.97       500\n",
            "weighted avg       0.97      0.97      0.97       500\n",
            "\n"
          ]
        }
      ],
      "source": [
        "from sklearn.metrics import classification_report\n",
        "\n",
        "# Generate classification report\n",
        "print(classification_report(test_labels, test_preds))"
      ]
    },
    {
      "cell_type": "code",
      "execution_count": null,
      "metadata": {
        "colab": {
          "base_uri": "https://localhost:8080/",
          "height": 632
        },
        "id": "i2nKEPYdcu-U",
        "outputId": "3fda6636-133d-4d07-be7b-24f36583bb8a"
      },
      "outputs": [
        {
          "name": "stdout",
          "output_type": "stream",
          "text": [
            "Confusion Matrix:\n",
            "[[236  12]\n",
            " [  4 248]]\n"
          ]
        },
        {
          "data": {
            "image/png": "[encoded data removed]",
            "text/plain": [
              "<Figure size 800x600 with 2 Axes>"
            ]
          },
          "metadata": {},
          "output_type": "display_data"
        }
      ],
      "source": [
        "from sklearn.metrics import confusion_matrix\n",
        "import matplotlib.pyplot as plt\n",
        "import seaborn as sns\n",
        "\n",
        "# Calculate confusion matrix\n",
        "print(\"Confusion Matrix:\")\n",
        "cm = confusion_matrix(test_labels, test_preds)\n",
        "print(cm)\n",
        "\n",
        "\n",
        "# Define class labels\n",
        "class_names = ['Original','Computer-Generated']\n",
        "\n",
        "# Plot the confusion matrix\n",
        "plt.figure(figsize=(8, 6))\n",
        "sns.set(font_scale=1.2)\n",
        "sns.heatmap(cm, annot=True, fmt='d', cmap='Blues', xticklabels=class_names, yticklabels=class_names)\n",
        "plt.xlabel('Predicted Labels')\n",
        "plt.ylabel('True Labels')\n",
        "plt.title('Confusion Matrix')\n",
        "plt.show()\n"
      ]
    },
    {
      "cell_type": "markdown",
      "metadata": {
        "id": "joDFBlBqy3Ma"
      },
      "source": [
        "# ***50%***"
      ]
    },
    {
      "cell_type": "code",
      "execution_count": null,
      "metadata": {
        "id": "pCKWGXEuy3Mb"
      },
      "outputs": [],
      "source": [
        "train = '/content/drive/MyDrive/dataset1/50/train50.csv'\n",
        "val = '/content/drive/MyDrive/dataset1/50/val50.csv'\n",
        "test = '/content/drive/MyDrive/dataset1/test-500.csv'"
      ]
    },
    {
      "cell_type": "code",
      "execution_count": null,
      "metadata": {
        "id": "DRDrBmQRy3Mb"
      },
      "outputs": [],
      "source": [
        "import pandas as pd\n",
        "\n",
        "train_data = pd.read_csv(train)\n",
        "val_data = pd.read_csv(val)\n",
        "test_data = pd.read_csv(test)"
      ]
    },
    {
      "cell_type": "code",
      "execution_count": null,
      "metadata": {
        "id": "OnM8pD7hy3Mb",
        "outputId": "17f5e6ca-fbd0-4a88-d290-f6f5b118cc96"
      },
      "outputs": [
        {
          "name": "stderr",
          "output_type": "stream",
          "text": [
            "Some weights of BertForSequenceClassification were not initialized from the model checkpoint at bert-base-uncased and are newly initialized: ['classifier.bias', 'classifier.weight']\n",
            "You should probably TRAIN this model on a down-stream task to be able to use it for predictions and inference.\n",
            "/usr/local/lib/python3.10/dist-packages/transformers/optimization.py:521: FutureWarning: This implementation of AdamW is deprecated and will be removed in a future version. Use the PyTorch implementation torch.optim.AdamW instead, or set `no_deprecation_warning=True` to disable this warning\n",
            "  warnings.warn(\n",
            "Epoch 1: 100%|██████████| 493/493 [05:06<00:00,  1.61batches/s]\n"
          ]
        },
        {
          "name": "stdout",
          "output_type": "stream",
          "text": [
            "Epoch 1/10, Training Loss: 0.16645785903323887, Validation Accuracy: 0.9399087221095335\n"
          ]
        },
        {
          "name": "stderr",
          "output_type": "stream",
          "text": [
            "Epoch 2: 100%|██████████| 493/493 [05:06<00:00,  1.61batches/s]\n"
          ]
        },
        {
          "name": "stdout",
          "output_type": "stream",
          "text": [
            "Epoch 2/10, Training Loss: 0.051727769996982226, Validation Accuracy: 0.970841784989858\n"
          ]
        },
        {
          "name": "stderr",
          "output_type": "stream",
          "text": [
            "Epoch 3: 100%|██████████| 493/493 [05:06<00:00,  1.61batches/s]\n"
          ]
        },
        {
          "name": "stdout",
          "output_type": "stream",
          "text": [
            "Epoch 3/10, Training Loss: 0.021617128043369394, Validation Accuracy: 0.9452332657200812\n"
          ]
        },
        {
          "name": "stderr",
          "output_type": "stream",
          "text": [
            "Epoch 4: 100%|██████████| 493/493 [05:06<00:00,  1.61batches/s]\n"
          ]
        },
        {
          "name": "stdout",
          "output_type": "stream",
          "text": [
            "Epoch 4/10, Training Loss: 0.013249066599136319, Validation Accuracy: 0.972870182555781\n"
          ]
        },
        {
          "name": "stderr",
          "output_type": "stream",
          "text": [
            "Epoch 5: 100%|██████████| 493/493 [05:06<00:00,  1.61batches/s]\n"
          ]
        },
        {
          "name": "stdout",
          "output_type": "stream",
          "text": [
            "Epoch 5/10, Training Loss: 0.013105029527304088, Validation Accuracy: 0.9802231237322515\n"
          ]
        },
        {
          "name": "stderr",
          "output_type": "stream",
          "text": [
            "Epoch 6: 100%|██████████| 493/493 [05:06<00:00,  1.61batches/s]\n"
          ]
        },
        {
          "name": "stdout",
          "output_type": "stream",
          "text": [
            "Epoch 6/10, Training Loss: 0.004343502272549038, Validation Accuracy: 0.9797160243407708\n"
          ]
        },
        {
          "name": "stderr",
          "output_type": "stream",
          "text": [
            "Epoch 7: 100%|██████████| 493/493 [05:06<00:00,  1.61batches/s]\n"
          ]
        },
        {
          "name": "stdout",
          "output_type": "stream",
          "text": [
            "Epoch 7/10, Training Loss: 0.005863656106781126, Validation Accuracy: 0.9662778904665315\n"
          ]
        },
        {
          "name": "stderr",
          "output_type": "stream",
          "text": [
            "Epoch 8: 100%|██████████| 493/493 [05:06<00:00,  1.61batches/s]\n"
          ]
        },
        {
          "name": "stdout",
          "output_type": "stream",
          "text": [
            "Epoch 8/10, Training Loss: 0.007238461568944051, Validation Accuracy: 0.9746450304259635\n"
          ]
        },
        {
          "name": "stderr",
          "output_type": "stream",
          "text": [
            "Epoch 9: 100%|██████████| 493/493 [05:06<00:00,  1.61batches/s]\n"
          ]
        },
        {
          "name": "stdout",
          "output_type": "stream",
          "text": [
            "Epoch 9/10, Training Loss: 0.004566571914912218, Validation Accuracy: 0.9710953346855984\n"
          ]
        },
        {
          "name": "stderr",
          "output_type": "stream",
          "text": [
            "Epoch 10: 100%|██████████| 493/493 [05:06<00:00,  1.61batches/s]\n"
          ]
        },
        {
          "name": "stdout",
          "output_type": "stream",
          "text": [
            "Epoch 10/10, Training Loss: 0.004906514210724302, Validation Accuracy: 0.9647565922920892\n",
            "Test Accuracy: 0.952\n"
          ]
        }
      ],
      "source": [
        "import torch\n",
        "from transformers import BertTokenizer, BertForSequenceClassification, AdamW\n",
        "from torch.utils.data import TensorDataset, DataLoader, RandomSampler, SequentialSampler\n",
        "from sklearn.preprocessing import LabelEncoder\n",
        "from sklearn.metrics import accuracy_score\n",
        "from tqdm import tqdm\n",
        "\n",
        "\n",
        "# Define the BERT model\n",
        "model = BertForSequenceClassification.from_pretrained('bert-base-uncased', num_labels=2)\n",
        "tokenizer = BertTokenizer.from_pretrained('bert-base-uncased')\n",
        "\n",
        "def tokenize_text(texts, tokenizer, max_length):\n",
        "    input_ids = []\n",
        "    attention_masks = []\n",
        "\n",
        "    for text in texts:\n",
        "        if pd.isnull(text):\n",
        "            text = \"\"  # Replace NaN with an empty string\n",
        "        encoded_dict = tokenizer.encode_plus(\n",
        "                            text,\n",
        "                            add_special_tokens=True,\n",
        "                            max_length=max_length,\n",
        "                            padding='max_length',\n",
        "                            truncation=True,\n",
        "                            return_attention_mask=True,\n",
        "                            return_tensors='pt'\n",
        "                       )\n",
        "\n",
        "        input_ids.append(encoded_dict['input_ids'])\n",
        "        attention_masks.append(encoded_dict['attention_mask'])\n",
        "\n",
        "    input_ids = torch.cat(input_ids, dim=0)\n",
        "    attention_masks = torch.cat(attention_masks, dim=0)\n",
        "\n",
        "    return input_ids, attention_masks\n",
        "\n",
        "\n",
        "# Encode labels\n",
        "label_encoder = LabelEncoder()\n",
        "train_labels = label_encoder.fit_transform(train_data['label'])\n",
        "val_labels = label_encoder.transform(val_data['label'])\n",
        "test_labels = label_encoder.transform(test_data['label'])\n",
        "\n",
        "# Tokenize and encode input sequences\n",
        "max_length = 128\n",
        "train_inputs, train_masks = tokenize_text(train_data['text'], tokenizer, max_length)\n",
        "val_inputs, val_masks = tokenize_text(val_data['text'], tokenizer, max_length)\n",
        "test_inputs, test_masks = tokenize_text(test_data['text'], tokenizer, max_length)\n",
        "\n",
        "# Create PyTorch datasets\n",
        "train_dataset = TensorDataset(train_inputs, train_masks, torch.tensor(train_labels))\n",
        "val_dataset = TensorDataset(val_inputs, val_masks, torch.tensor(val_labels))\n",
        "test_dataset = TensorDataset(test_inputs, test_masks, torch.tensor(test_labels))\n",
        "\n",
        "# Define data loaders\n",
        "batch_size = 32\n",
        "train_dataloader = DataLoader(train_dataset, sampler=RandomSampler(train_dataset), batch_size=batch_size)\n",
        "val_dataloader = DataLoader(val_dataset, sampler=SequentialSampler(val_dataset), batch_size=batch_size)\n",
        "test_dataloader = DataLoader(test_dataset, sampler=SequentialSampler(test_dataset), batch_size=batch_size)\n",
        "\n",
        "# Define optimizer and loss function\n",
        "optimizer = AdamW(model.parameters(), lr=2e-5)\n",
        "loss_fn = torch.nn.CrossEntropyLoss()\n",
        "\n",
        "# Train the model\n",
        "device = torch.device('cuda' if torch.cuda.is_available() else 'cpu')\n",
        "model.to(device)\n",
        "\n",
        "epochs = 10\n",
        "\n",
        "for epoch in range(epochs):\n",
        "    model.train()\n",
        "    total_loss = 0\n",
        "    for batch in tqdm(train_dataloader, desc=f'Epoch {epoch + 1}', unit='batches'):\n",
        "        batch = tuple(t.to(device) for t in batch)\n",
        "        inputs, masks, labels = batch\n",
        "\n",
        "        optimizer.zero_grad()\n",
        "        outputs = model(inputs, attention_mask=masks, labels=labels)\n",
        "        loss = outputs.loss\n",
        "        total_loss += loss.item()\n",
        "        loss.backward()\n",
        "        optimizer.step()\n",
        "\n",
        "    avg_train_loss = total_loss / len(train_dataloader)\n",
        "\n",
        "    # Validation\n",
        "    model.eval()\n",
        "    val_preds = []\n",
        "    val_labels = []\n",
        "\n",
        "    for batch in val_dataloader:\n",
        "        batch = tuple(t.to(device) for t in batch)\n",
        "        inputs, masks, labels = batch\n",
        "\n",
        "        with torch.no_grad():\n",
        "            outputs = model(inputs, attention_mask=masks)\n",
        "            logits = outputs.logits\n",
        "\n",
        "        val_preds.extend(torch.argmax(logits, dim=1).tolist())\n",
        "        val_labels.extend(labels.tolist())\n",
        "\n",
        "    val_accuracy = accuracy_score(val_labels, val_preds)\n",
        "\n",
        "    print(f\"Epoch {epoch + 1}/{epochs}, Training Loss: {avg_train_loss}, Validation Accuracy: {val_accuracy}\")\n",
        "\n",
        "# Test the model\n",
        "model.eval()\n",
        "test_preds = []\n",
        "test_labels = []\n",
        "\n",
        "for batch in test_dataloader:\n",
        "    batch = tuple(t.to(device) for t in batch)\n",
        "    inputs, masks, labels = batch\n",
        "\n",
        "    with torch.no_grad():\n",
        "        outputs = model(inputs, attention_mask=masks)\n",
        "        logits = outputs.logits\n",
        "\n",
        "    test_preds.extend(torch.argmax(logits, dim=1).tolist())\n",
        "    test_labels.extend(labels.tolist())\n",
        "\n",
        "test_accuracy = accuracy_score(test_labels, test_preds)\n",
        "print(f\"Test Accuracy: {test_accuracy}\")\n"
      ]
    },
    {
      "cell_type": "code",
      "execution_count": null,
      "metadata": {
        "id": "7UUiVmVDy3Mc",
        "outputId": "fe6638e5-935a-4a59-a1e6-97ce1b982159"
      },
      "outputs": [
        {
          "name": "stdout",
          "output_type": "stream",
          "text": [
            "              precision    recall  f1-score   support\n",
            "\n",
            "           0       0.98      0.92      0.95       248\n",
            "           1       0.93      0.98      0.95       252\n",
            "\n",
            "    accuracy                           0.95       500\n",
            "   macro avg       0.95      0.95      0.95       500\n",
            "weighted avg       0.95      0.95      0.95       500\n",
            "\n"
          ]
        }
      ],
      "source": [
        "from sklearn.metrics import classification_report\n",
        "\n",
        "# Generate classification report\n",
        "print(classification_report(test_labels, test_preds))"
      ]
    },
    {
      "cell_type": "code",
      "execution_count": null,
      "metadata": {
        "id": "iUb_Ui24y3Mc",
        "outputId": "ebed0bcb-4e04-4605-a5c8-4fb3cfd9d3b0"
      },
      "outputs": [
        {
          "name": "stdout",
          "output_type": "stream",
          "text": [
            "Confusion Matrix:\n",
            "[[229  19]\n",
            " [  5 247]]\n"
          ]
        },
        {
          "data": {
            "image/png": "[encoded data removed]",
            "text/plain": [
              "<Figure size 800x600 with 2 Axes>"
            ]
          },
          "metadata": {},
          "output_type": "display_data"
        }
      ],
      "source": [
        "from sklearn.metrics import confusion_matrix\n",
        "import matplotlib.pyplot as plt\n",
        "import seaborn as sns\n",
        "\n",
        "# Calculate confusion matrix\n",
        "print(\"Confusion Matrix:\")\n",
        "cm = confusion_matrix(test_labels, test_preds)\n",
        "print(cm)\n",
        "\n",
        "\n",
        "# Define class labels\n",
        "class_names = ['Original','Computer-Generated']\n",
        "\n",
        "# Plot the confusion matrix\n",
        "plt.figure(figsize=(8, 6))\n",
        "sns.set(font_scale=1.2)\n",
        "sns.heatmap(cm, annot=True, fmt='d', cmap='Blues', xticklabels=class_names, yticklabels=class_names)\n",
        "plt.xlabel('Predicted Labels')\n",
        "plt.ylabel('True Labels')\n",
        "plt.title('Confusion Matrix')\n",
        "plt.show()\n"
      ]
    },
    {
      "cell_type": "markdown",
      "metadata": {
        "id": "WHPAaijQy3Md"
      },
      "source": [
        "# ***10%***"
      ]
    },
    {
      "cell_type": "code",
      "execution_count": null,
      "metadata": {
        "id": "buId-yXBy3Md"
      },
      "outputs": [],
      "source": [
        "train = '/content/drive/MyDrive/dataset1/10/train10.csv'\n",
        "val = '/content/drive/MyDrive/dataset1/10/val10.csv'\n",
        "test = '/content/drive/MyDrive/dataset1/test-500.csv'"
      ]
    },
    {
      "cell_type": "code",
      "execution_count": null,
      "metadata": {
        "id": "F2AOtG1-y3Md"
      },
      "outputs": [],
      "source": [
        "import pandas as pd\n",
        "\n",
        "train_data = pd.read_csv(train)\n",
        "val_data = pd.read_csv(val)\n",
        "test_data = pd.read_csv(test)"
      ]
    },
    {
      "cell_type": "code",
      "execution_count": null,
      "metadata": {
        "id": "YrOh5scSy3Md",
        "outputId": "ad9c5c6c-cb57-4126-ce19-02bfde6b7163"
      },
      "outputs": [
        {
          "name": "stderr",
          "output_type": "stream",
          "text": [
            "Some weights of BertForSequenceClassification were not initialized from the model checkpoint at bert-base-uncased and are newly initialized: ['classifier.bias', 'classifier.weight']\n",
            "You should probably TRAIN this model on a down-stream task to be able to use it for predictions and inference.\n",
            "/usr/local/lib/python3.10/dist-packages/transformers/optimization.py:521: FutureWarning: This implementation of AdamW is deprecated and will be removed in a future version. Use the PyTorch implementation torch.optim.AdamW instead, or set `no_deprecation_warning=True` to disable this warning\n",
            "  warnings.warn(\n",
            "Epoch 1: 100%|██████████| 99/99 [01:01<00:00,  1.60batches/s]\n"
          ]
        },
        {
          "name": "stdout",
          "output_type": "stream",
          "text": [
            "Epoch 1/10, Training Loss: 0.3602909661377921, Validation Accuracy: 0.9340937896070975\n"
          ]
        },
        {
          "name": "stderr",
          "output_type": "stream",
          "text": [
            "Epoch 2: 100%|██████████| 99/99 [01:01<00:00,  1.62batches/s]\n"
          ]
        },
        {
          "name": "stdout",
          "output_type": "stream",
          "text": [
            "Epoch 2/10, Training Loss: 0.08866193570723438, Validation Accuracy: 0.8846641318124208\n"
          ]
        },
        {
          "name": "stderr",
          "output_type": "stream",
          "text": [
            "Epoch 3: 100%|██████████| 99/99 [01:01<00:00,  1.61batches/s]\n"
          ]
        },
        {
          "name": "stdout",
          "output_type": "stream",
          "text": [
            "Epoch 3/10, Training Loss: 0.03100865824627831, Validation Accuracy: 0.9404309252217997\n"
          ]
        },
        {
          "name": "stderr",
          "output_type": "stream",
          "text": [
            "Epoch 4: 100%|██████████| 99/99 [01:01<00:00,  1.61batches/s]\n"
          ]
        },
        {
          "name": "stdout",
          "output_type": "stream",
          "text": [
            "Epoch 4/10, Training Loss: 0.02101903903472115, Validation Accuracy: 0.9188846641318125\n"
          ]
        },
        {
          "name": "stderr",
          "output_type": "stream",
          "text": [
            "Epoch 5: 100%|██████████| 99/99 [01:01<00:00,  1.61batches/s]\n"
          ]
        },
        {
          "name": "stdout",
          "output_type": "stream",
          "text": [
            "Epoch 5/10, Training Loss: 0.018476417727387427, Validation Accuracy: 0.8986058301647655\n"
          ]
        },
        {
          "name": "stderr",
          "output_type": "stream",
          "text": [
            "Epoch 6: 100%|██████████| 99/99 [01:01<00:00,  1.61batches/s]\n"
          ]
        },
        {
          "name": "stdout",
          "output_type": "stream",
          "text": [
            "Epoch 6/10, Training Loss: 0.017545162265617024, Validation Accuracy: 0.9252217997465145\n"
          ]
        },
        {
          "name": "stderr",
          "output_type": "stream",
          "text": [
            "Epoch 7: 100%|██████████| 99/99 [01:01<00:00,  1.61batches/s]\n"
          ]
        },
        {
          "name": "stdout",
          "output_type": "stream",
          "text": [
            "Epoch 7/10, Training Loss: 0.011679921340376063, Validation Accuracy: 0.9594423320659062\n"
          ]
        },
        {
          "name": "stderr",
          "output_type": "stream",
          "text": [
            "Epoch 8: 100%|██████████| 99/99 [01:01<00:00,  1.61batches/s]\n"
          ]
        },
        {
          "name": "stdout",
          "output_type": "stream",
          "text": [
            "Epoch 8/10, Training Loss: 0.01808836843496226, Validation Accuracy: 0.9391634980988594\n"
          ]
        },
        {
          "name": "stderr",
          "output_type": "stream",
          "text": [
            "Epoch 9: 100%|██████████| 99/99 [01:01<00:00,  1.61batches/s]\n"
          ]
        },
        {
          "name": "stdout",
          "output_type": "stream",
          "text": [
            "Epoch 9/10, Training Loss: 0.0031470196053204644, Validation Accuracy: 0.935361216730038\n"
          ]
        },
        {
          "name": "stderr",
          "output_type": "stream",
          "text": [
            "Epoch 10: 100%|██████████| 99/99 [01:01<00:00,  1.61batches/s]\n"
          ]
        },
        {
          "name": "stdout",
          "output_type": "stream",
          "text": [
            "Epoch 10/10, Training Loss: 0.006351481776830336, Validation Accuracy: 0.9074778200253485\n",
            "Test Accuracy: 0.902\n"
          ]
        }
      ],
      "source": [
        "import torch\n",
        "from transformers import BertTokenizer, BertForSequenceClassification, AdamW\n",
        "from torch.utils.data import TensorDataset, DataLoader, RandomSampler, SequentialSampler\n",
        "from sklearn.preprocessing import LabelEncoder\n",
        "from sklearn.metrics import accuracy_score\n",
        "from tqdm import tqdm\n",
        "\n",
        "\n",
        "# Define the BERT model\n",
        "model = BertForSequenceClassification.from_pretrained('bert-base-uncased', num_labels=2)\n",
        "tokenizer = BertTokenizer.from_pretrained('bert-base-uncased')\n",
        "\n",
        "def tokenize_text(texts, tokenizer, max_length):\n",
        "    input_ids = []\n",
        "    attention_masks = []\n",
        "\n",
        "    for text in texts:\n",
        "        if pd.isnull(text):\n",
        "            text = \"\"  # Replace NaN with an empty string\n",
        "        encoded_dict = tokenizer.encode_plus(\n",
        "                            text,\n",
        "                            add_special_tokens=True,\n",
        "                            max_length=max_length,\n",
        "                            padding='max_length',\n",
        "                            truncation=True,\n",
        "                            return_attention_mask=True,\n",
        "                            return_tensors='pt'\n",
        "                       )\n",
        "\n",
        "        input_ids.append(encoded_dict['input_ids'])\n",
        "        attention_masks.append(encoded_dict['attention_mask'])\n",
        "\n",
        "    input_ids = torch.cat(input_ids, dim=0)\n",
        "    attention_masks = torch.cat(attention_masks, dim=0)\n",
        "\n",
        "    return input_ids, attention_masks\n",
        "\n",
        "\n",
        "# Encode labels\n",
        "label_encoder = LabelEncoder()\n",
        "train_labels = label_encoder.fit_transform(train_data['label'])\n",
        "val_labels = label_encoder.transform(val_data['label'])\n",
        "test_labels = label_encoder.transform(test_data['label'])\n",
        "\n",
        "# Tokenize and encode input sequences\n",
        "max_length = 128\n",
        "train_inputs, train_masks = tokenize_text(train_data['text'], tokenizer, max_length)\n",
        "val_inputs, val_masks = tokenize_text(val_data['text'], tokenizer, max_length)\n",
        "test_inputs, test_masks = tokenize_text(test_data['text'], tokenizer, max_length)\n",
        "\n",
        "# Create PyTorch datasets\n",
        "train_dataset = TensorDataset(train_inputs, train_masks, torch.tensor(train_labels))\n",
        "val_dataset = TensorDataset(val_inputs, val_masks, torch.tensor(val_labels))\n",
        "test_dataset = TensorDataset(test_inputs, test_masks, torch.tensor(test_labels))\n",
        "\n",
        "# Define data loaders\n",
        "batch_size = 32\n",
        "train_dataloader = DataLoader(train_dataset, sampler=RandomSampler(train_dataset), batch_size=batch_size)\n",
        "val_dataloader = DataLoader(val_dataset, sampler=SequentialSampler(val_dataset), batch_size=batch_size)\n",
        "test_dataloader = DataLoader(test_dataset, sampler=SequentialSampler(test_dataset), batch_size=batch_size)\n",
        "\n",
        "# Define optimizer and loss function\n",
        "optimizer = AdamW(model.parameters(), lr=2e-5)\n",
        "loss_fn = torch.nn.CrossEntropyLoss()\n",
        "\n",
        "# Train the model\n",
        "device = torch.device('cuda' if torch.cuda.is_available() else 'cpu')\n",
        "model.to(device)\n",
        "\n",
        "epochs = 10\n",
        "\n",
        "for epoch in range(epochs):\n",
        "    model.train()\n",
        "    total_loss = 0\n",
        "    for batch in tqdm(train_dataloader, desc=f'Epoch {epoch + 1}', unit='batches'):\n",
        "        batch = tuple(t.to(device) for t in batch)\n",
        "        inputs, masks, labels = batch\n",
        "\n",
        "        optimizer.zero_grad()\n",
        "        outputs = model(inputs, attention_mask=masks, labels=labels)\n",
        "        loss = outputs.loss\n",
        "        total_loss += loss.item()\n",
        "        loss.backward()\n",
        "        optimizer.step()\n",
        "\n",
        "    avg_train_loss = total_loss / len(train_dataloader)\n",
        "\n",
        "    # Validation\n",
        "    model.eval()\n",
        "    val_preds = []\n",
        "    val_labels = []\n",
        "\n",
        "    for batch in val_dataloader:\n",
        "        batch = tuple(t.to(device) for t in batch)\n",
        "        inputs, masks, labels = batch\n",
        "\n",
        "        with torch.no_grad():\n",
        "            outputs = model(inputs, attention_mask=masks)\n",
        "            logits = outputs.logits\n",
        "\n",
        "        val_preds.extend(torch.argmax(logits, dim=1).tolist())\n",
        "        val_labels.extend(labels.tolist())\n",
        "\n",
        "    val_accuracy = accuracy_score(val_labels, val_preds)\n",
        "\n",
        "    print(f\"Epoch {epoch + 1}/{epochs}, Training Loss: {avg_train_loss}, Validation Accuracy: {val_accuracy}\")\n",
        "\n",
        "# Test the model\n",
        "model.eval()\n",
        "test_preds = []\n",
        "test_labels = []\n",
        "\n",
        "for batch in test_dataloader:\n",
        "    batch = tuple(t.to(device) for t in batch)\n",
        "    inputs, masks, labels = batch\n",
        "\n",
        "    with torch.no_grad():\n",
        "        outputs = model(inputs, attention_mask=masks)\n",
        "        logits = outputs.logits\n",
        "\n",
        "    test_preds.extend(torch.argmax(logits, dim=1).tolist())\n",
        "    test_labels.extend(labels.tolist())\n",
        "\n",
        "test_accuracy = accuracy_score(test_labels, test_preds)\n",
        "print(f\"Test Accuracy: {test_accuracy}\")\n"
      ]
    },
    {
      "cell_type": "code",
      "execution_count": null,
      "metadata": {
        "id": "MrnMciEky3Md",
        "outputId": "f77a0e98-2f73-4ecf-a381-6c7c29442b68"
      },
      "outputs": [
        {
          "name": "stdout",
          "output_type": "stream",
          "text": [
            "              precision    recall  f1-score   support\n",
            "\n",
            "           0       0.97      0.83      0.89       248\n",
            "           1       0.85      0.98      0.91       252\n",
            "\n",
            "    accuracy                           0.90       500\n",
            "   macro avg       0.91      0.90      0.90       500\n",
            "weighted avg       0.91      0.90      0.90       500\n",
            "\n"
          ]
        }
      ],
      "source": [
        "from sklearn.metrics import classification_report\n",
        "\n",
        "# Generate classification report\n",
        "print(classification_report(test_labels, test_preds))"
      ]
    },
    {
      "cell_type": "code",
      "execution_count": null,
      "metadata": {
        "id": "wGINB-4xy3Me",
        "outputId": "f0119b12-fd70-4eb5-8947-88375c84ca04"
      },
      "outputs": [
        {
          "name": "stdout",
          "output_type": "stream",
          "text": [
            "Confusion Matrix:\n",
            "[[205  43]\n",
            " [  6 246]]\n"
          ]
        },
        {
          "data": {
            "image/png": "[encoded data removed]",
            "text/plain": [
              "<Figure size 800x600 with 2 Axes>"
            ]
          },
          "metadata": {},
          "output_type": "display_data"
        }
      ],
      "source": [
        "from sklearn.metrics import confusion_matrix\n",
        "import matplotlib.pyplot as plt\n",
        "import seaborn as sns\n",
        "\n",
        "# Calculate confusion matrix\n",
        "print(\"Confusion Matrix:\")\n",
        "cm = confusion_matrix(test_labels, test_preds)\n",
        "print(cm)\n",
        "\n",
        "\n",
        "# Define class labels\n",
        "class_names = ['Original','Computer-Generated']\n",
        "\n",
        "# Plot the confusion matrix\n",
        "plt.figure(figsize=(8, 6))\n",
        "sns.set(font_scale=1.2)\n",
        "sns.heatmap(cm, annot=True, fmt='d', cmap='Blues', xticklabels=class_names, yticklabels=class_names)\n",
        "plt.xlabel('Predicted Labels')\n",
        "plt.ylabel('True Labels')\n",
        "plt.title('Confusion Matrix')\n",
        "plt.show()\n"
      ]
    }
  ],
  "metadata": {
    "accelerator": "TPU",
    "colab": {
      "provenance": []
    },
    "kernelspec": {
      "display_name": "Python 3",
      "name": "python3"
    },
    "language_info": {
      "name": "python",
      "version": "3.10.7"
    }
  },
  "nbformat": 4,
  "nbformat_minor": 0
}